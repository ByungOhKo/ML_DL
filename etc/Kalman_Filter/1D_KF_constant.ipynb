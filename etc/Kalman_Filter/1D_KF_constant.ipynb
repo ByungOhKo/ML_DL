{
 "cells": [
  {
   "cell_type": "markdown",
   "metadata": {},
   "source": [
    "참고자료\n",
    "\n",
    "\n",
    "https://www.youtube.com/playlist?list=PLX2gX-ftPVXU3oUFNATxGXY90AULiqnWT\n",
    "\n",
    "\n",
    "https://nbviewer.org/github/rlabbe/Kalman-and-Bayesian-Filters-in-Python/blob/master/table_of_contents.ipynb"
   ]
  },
  {
   "cell_type": "code",
   "execution_count": 42,
   "metadata": {},
   "outputs": [],
   "source": [
    "import numpy as np"
   ]
  },
  {
   "cell_type": "markdown",
   "metadata": {},
   "source": [
    "# Initialize (Design)"
   ]
  },
  {
   "cell_type": "markdown",
   "metadata": {},
   "source": [
    "### Design the State Matrix"
   ]
  },
  {
   "cell_type": "code",
   "execution_count": 43,
   "metadata": {},
   "outputs": [
    {
     "data": {
      "text/plain": [
       "array([[10. ],\n",
       "       [ 4.5]])"
      ]
     },
     "execution_count": 43,
     "metadata": {},
     "output_type": "execute_result"
    }
   ],
   "source": [
    "# Design State Matrix\n",
    "x = np.array([[10.0],\n",
    "              [4.5]])\n",
    "x"
   ]
  },
  {
   "cell_type": "markdown",
   "metadata": {},
   "source": [
    "### Design the Process Covariance Matrix\n",
    "\n",
    "The position and velocities are correlated.\n",
    "\n",
    "But how correlated are they for a dog? we have no idea.\n",
    "\n",
    "As we will see the filter computes this for us, so we initialize the covariances to zero.\n",
    "\n",
    "Of course, if we know the covariances we should use them."
   ]
  },
  {
   "cell_type": "code",
   "execution_count": 44,
   "metadata": {},
   "outputs": [
    {
     "data": {
      "text/plain": [
       "array([[500.,   0.],\n",
       "       [  0.,  49.]])"
      ]
     },
     "execution_count": 44,
     "metadata": {},
     "output_type": "execute_result"
    }
   ],
   "source": [
    "# Design Process Covariance Matrix\n",
    "P = np.diag([500., 49.])\n",
    "P"
   ]
  },
  {
   "cell_type": "markdown",
   "metadata": {},
   "source": [
    "### Design the State Transition Matrix"
   ]
  },
  {
   "cell_type": "code",
   "execution_count": 45,
   "metadata": {},
   "outputs": [
    {
     "data": {
      "text/plain": [
       "array([[1. , 0.1],\n",
       "       [0. , 1. ]])"
      ]
     },
     "execution_count": 45,
     "metadata": {},
     "output_type": "execute_result"
    }
   ],
   "source": [
    "dt = 0.1\n",
    "F = np.array([[1., dt],\n",
    "              [0, 1.]])\n",
    "F"
   ]
  },
  {
   "cell_type": "markdown",
   "metadata": {},
   "source": [
    "### Predict without any update"
   ]
  },
  {
   "cell_type": "code",
   "execution_count": 46,
   "metadata": {},
   "outputs": [
    {
     "name": "stdout",
     "output_type": "stream",
     "text": [
      "x = [[10.45]\n",
      " [ 4.5 ]]\n",
      "x = [[10.9]\n",
      " [ 4.5]]\n",
      "x = [[11.35]\n",
      " [ 4.5 ]]\n",
      "x = [[11.8]\n",
      " [ 4.5]]\n"
     ]
    }
   ],
   "source": [
    "from filterpy.kalman import predict\n",
    "\n",
    "for _ in range(4):\n",
    "    x, P = predict(x=x, P=P, F=F, Q=0)\n",
    "    print(f'x = {x}')\n"
   ]
  },
  {
   "cell_type": "markdown",
   "metadata": {},
   "source": [
    "### Design Process Noise"
   ]
  },
  {
   "cell_type": "code",
   "execution_count": 47,
   "metadata": {},
   "outputs": [
    {
     "data": {
      "text/plain": [
       "array([[0.5875, 1.175 ],\n",
       "       [1.175 , 2.35  ]])"
      ]
     },
     "execution_count": 47,
     "metadata": {},
     "output_type": "execute_result"
    }
   ],
   "source": [
    "from filterpy.common import Q_discrete_white_noise\n",
    "Q = Q_discrete_white_noise(dim=2, dt=1., var=2.35)\n",
    "Q"
   ]
  },
  {
   "cell_type": "markdown",
   "metadata": {},
   "source": [
    "### Design the Control Function"
   ]
  },
  {
   "cell_type": "code",
   "execution_count": 50,
   "metadata": {},
   "outputs": [
    {
     "name": "stdout",
     "output_type": "stream",
     "text": [
      "x = [[13.15]\n",
      " [ 4.5 ]]\n",
      "P = [[526.595  38.53 ]\n",
      " [ 38.53   56.05 ]]\n"
     ]
    }
   ],
   "source": [
    "B = 0.  # Assume that there are no control inputs\n",
    "u = 0\n",
    "x, P = predict(x, P, F, Q, B, u)\n",
    "print('x =', x)\n",
    "print('P =', P)"
   ]
  },
  {
   "cell_type": "markdown",
   "metadata": {},
   "source": [
    "### Prediction: Summary\n",
    "\n",
    "Your job as a designer is to specify the matrices for\n",
    "\n",
    "- x, P: the state and covariance\n",
    "- F, Q: the process model and noise covariance\n",
    "- B, u: Optionally, the control input and function"
   ]
  },
  {
   "cell_type": "markdown",
   "metadata": {},
   "source": [
    "# Update Step"
   ]
  }
 ],
 "metadata": {
  "interpreter": {
   "hash": "4c7db64f36cbcc5fb7ccbfb37c66e98c907907712b48be2e35e1ce3a3f867289"
  },
  "kernelspec": {
   "display_name": "Python 3.6.9 ('venv': venv)",
   "language": "python",
   "name": "python3"
  },
  "language_info": {
   "codemirror_mode": {
    "name": "ipython",
    "version": 3
   },
   "file_extension": ".py",
   "mimetype": "text/x-python",
   "name": "python",
   "nbconvert_exporter": "python",
   "pygments_lexer": "ipython3",
   "version": "3.6.9"
  },
  "orig_nbformat": 4
 },
 "nbformat": 4,
 "nbformat_minor": 2
}
