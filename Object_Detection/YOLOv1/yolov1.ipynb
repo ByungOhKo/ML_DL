{
 "cells": [
  {
   "cell_type": "code",
   "execution_count": 14,
   "metadata": {},
   "outputs": [],
   "source": [
    "from platform import architecture\n",
    "import torch\n",
    "import torch.nn as nn\n",
    "\n",
    "# 논문에 적힌 내용 \n",
    "# We use a linear activation function for the final layer and\n",
    "# all other layers use the following leaky rectified linear activation\n",
    "\n",
    "class CNNBlock(nn.Module):\n",
    "    def __init__(self, in_channels, out_channels, **kwargs):\n",
    "        super(CNNBlock, self).__init__()\n",
    "        # https://pytorch.org/docs/stable/generated/torch.nn.Conv2d.html\n",
    "        self.conv = nn.Conv2d(in_channels, out_channels, bias=False, **kwargs)\n",
    "        self.leakyrelu = nn.LeakyReLU(0.1)\n",
    "        \n",
    "    def forward(self, x):\n",
    "        return self.leakyrelu(self.conv(x))\n",
    "    \n",
    "class Yolov1(nn.Module):\n",
    "    def __init__(self, architecture_config, in_channels, grid_size, num_boxes, num_classes):\n",
    "        super(Yolov1, self).__init__()\n",
    "        self.architecture = architecture_config\n",
    "        self.in_channels = in_channels\n",
    "        self.darknet = self._create_conv_layers(self.architecture)\n",
    "        self.fcs = self._create_fcs(grid_size, num_boxes, num_classes)\n",
    "        \n",
    "    def forward(self, x):\n",
    "        x = self.darknet(x)\n",
    "        return self.fcs(torch.flatten(x, start_dim=1))\n",
    "        \n",
    "    def _create_conv_layers(self, architecture):\n",
    "        layers = []\n",
    "        in_channels = self.in_channels\n",
    "        \n",
    "        for cfg in architecture:\n",
    "            if type(cfg) == tuple:\n",
    "                layers += [CNNBlock(in_channels, cfg[1], kernel_size=cfg[0], stride=cfg[2], padding=cfg[3])]\n",
    "                in_channels = cfg[1]\n",
    "                \n",
    "            elif type(cfg) == str:\n",
    "                layers += [nn.MaxPool2d(kernel_size=2, stride=2)]\n",
    "                \n",
    "            elif type(cfg) == list:\n",
    "                iter = cfg[-1]\n",
    "                for _ in range(iter):\n",
    "                    for cfg_in in cfg[:-1]:\n",
    "                        layers += [CNNBlock(in_channels, cfg_in[1], kernel_size=cfg_in[0], stride=cfg_in[2], padding=cfg_in[3])]\n",
    "                        in_channels = cfg_in[1]\n",
    "                    \n",
    "        return nn.Sequential(*layers)\n",
    "    \n",
    "    def _create_fcs(self, grid_size, num_boxes, num_classes):\n",
    "        S, B, C = grid_size, num_boxes, num_classes\n",
    "\n",
    "        return nn.Sequential(\n",
    "            nn.Flatten(),\n",
    "            nn.Linear(1024 * S * S, 4096),\n",
    "            nn.LeakyReLU(0.1),\n",
    "            nn.Dropout(0.5),\n",
    "            nn.Linear(4096, S * S * (C + B * 5)),\n",
    "        )"
   ]
  },
  {
   "cell_type": "code",
   "execution_count": 15,
   "metadata": {},
   "outputs": [],
   "source": [
    "architecture_config = [\n",
    "    # YOLO 논문의 (Figure 3: The Architecture)의 Conv, Maxpool layers를 선언\n",
    "    # tuple: (kernel_size, channels, stride, padding)\n",
    "    # str: Maxpool layer\n",
    "    # list: [tuple1, tuple2, iteration]\n",
    "    (7, 64, 2, 3),\n",
    "    \"Maxpool\",\n",
    "    (3, 192, 1, 1),\n",
    "    \"Maxpool\",\n",
    "    (1, 128, 1, 0),\n",
    "    (3, 256, 1, 1),\n",
    "    (1, 256, 1, 0),\n",
    "    (3, 512, 1, 1),\n",
    "    \"Maxpool\",\n",
    "    [(1, 256, 1, 0), (3, 512, 1, 1), 4],\n",
    "    (1, 512, 1, 0),\n",
    "    (3, 1024, 1, 1),\n",
    "    \"Maxpool\",\n",
    "    [(1, 512, 1, 0), (3, 1024, 1, 1), 2],\n",
    "    (3, 1024, 1, 1),\n",
    "    (3, 1024, 2, 1),\n",
    "    (3, 1024, 1, 1),\n",
    "    (3, 1024, 1, 1),\n",
    "]\n",
    "\n",
    "def test():\n",
    "    model = Yolov1(architecture_config, 3, 7, 2, 20)\n",
    "    x = torch.randn((2, 3, 448, 448))\n",
    "    print(model(x).shape)"
   ]
  },
  {
   "cell_type": "code",
   "execution_count": 16,
   "metadata": {},
   "outputs": [
    {
     "name": "stdout",
     "output_type": "stream",
     "text": [
      "torch.Size([2, 1470])\n"
     ]
    }
   ],
   "source": [
    "test()\n"
   ]
  },
  {
   "cell_type": "code",
   "execution_count": 57,
   "metadata": {},
   "outputs": [],
   "source": [
    "import torch\n",
    "import torch.nn as nn\n",
    "from utils import intersection_over_union as iou\n",
    "\n",
    "class YoloLoss(nn.Module):\n",
    "    # YOLO의 perdiction의 shape은 (N, S * S * (C + B * 5)) 가 된다.\n",
    "    # 논문에 주어진 parameter와 맞추면 (N, 1470)이 된다.\n",
    "    # 이를 reshape을 통해 (N, S, S, C + B * 5) = (N, 7, 7, 30)으로 변환한다.\n",
    "    \n",
    "    def __init__(self, S=7, B=2, C=20):\n",
    "        super(YoloLoss, self).__init__()\n",
    "        self.S = S\n",
    "        self.B = B\n",
    "        self.C = C\n",
    "    \n",
    "    def forward(self, pred, target):\n",
    "        # predictions.shape = (BATCH_SIZE, S, S, C + B * 5)\n",
    "        pred = pred.reshape(-1, self.S, self.S, self.C + self.B * 5)\n",
    "\n",
    "        iou_b1 = iou(pred[..., self.C + 1: self.C + 5], target[..., self.C + 1:self.C + 5])\n",
    "        for i in range(self.B):\n",
    "            iou_b2 = iou(pred[..., self.C + 1 + 5*i: self.C + 5 + 5*i], target[..., self.C + 1:self.C + 5])\n",
    "            ious = torch.cat((iou_b1.unsqueeze(0), iou_b2.unsqueeze(0)), dim=0)\n",
    "            responsible_iou, responsible_indices = torch.max(ious, dim=0)\n",
    "\n",
    "        \n",
    "        return responsible_iou, responsible_indices"
   ]
  },
  {
   "cell_type": "code",
   "execution_count": 58,
   "metadata": {},
   "outputs": [],
   "source": [
    "x = torch.randn((2, 4*4*(20+5*5)))\n",
    "y = torch.randn((2, 4, 4, 45))\n",
    "\n",
    "loss = YoloLoss(4, 5, 20)\n"
   ]
  },
  {
   "cell_type": "code",
   "execution_count": 59,
   "metadata": {},
   "outputs": [
    {
     "name": "stdout",
     "output_type": "stream",
     "text": [
      "torch.Size([2, 4, 4, 1]) torch.Size([2, 4, 4, 1])\n"
     ]
    }
   ],
   "source": [
    "b1, b2 = loss(x,y)\n",
    "\n",
    "print(b1.shape, b2.shape)"
   ]
  }
 ],
 "metadata": {
  "interpreter": {
   "hash": "4c7db64f36cbcc5fb7ccbfb37c66e98c907907712b48be2e35e1ce3a3f867289"
  },
  "kernelspec": {
   "display_name": "Python 3.6.9 ('venv': venv)",
   "language": "python",
   "name": "python3"
  },
  "language_info": {
   "codemirror_mode": {
    "name": "ipython",
    "version": 3
   },
   "file_extension": ".py",
   "mimetype": "text/x-python",
   "name": "python",
   "nbconvert_exporter": "python",
   "pygments_lexer": "ipython3",
   "version": "3.6.9"
  },
  "orig_nbformat": 4
 },
 "nbformat": 4,
 "nbformat_minor": 2
}
