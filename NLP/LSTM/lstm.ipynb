{
 "cells": [
  {
   "cell_type": "markdown",
   "metadata": {},
   "source": [
    "참고\n",
    "\n",
    "\n",
    "https://karpathy.github.io/2015/05/21/rnn-effectiveness/"
   ]
  },
  {
   "cell_type": "code",
   "execution_count": 1,
   "metadata": {},
   "outputs": [],
   "source": [
    "import torch\n",
    "import numpy as np\n",
    "\n",
    "device = torch.device('cuda' if torch.cuda.is_available() else 'cpu')"
   ]
  },
  {
   "cell_type": "markdown",
   "metadata": {},
   "source": [
    "# Data Preprocessing Functions"
   ]
  },
  {
   "cell_type": "code",
   "execution_count": 2,
   "metadata": {},
   "outputs": [],
   "source": [
    "def get_batch_SGD(encoded, batch_size, sequence_length, shuffle):\n",
    "    full_length = len(encoded)\n",
    "    batch_length = batch_size * sequence_length\n",
    "    batch_per_epoch = full_length // (batch_length)\n",
    "    \n",
    "    encoded = encoded[0:batch_length * batch_per_epoch + 1]\n",
    "    encoded = np.array(encoded)\n",
    "    \n",
    "    input = np.zeros((batch_per_epoch, batch_length))\n",
    "    target = np.zeros((batch_per_epoch, batch_length))\n",
    "    \n",
    "    for i in range(batch_per_epoch):\n",
    "        input[i, :] = encoded[i*batch_length:(i+1)*batch_length]\n",
    "        target[i, :] = encoded[i*batch_length+1:(i+1)*batch_length+1]\n",
    "        \n",
    "    input = input.reshape((batch_per_epoch, batch_size, sequence_length))\n",
    "    target = target.reshape((batch_per_epoch, batch_size, sequence_length))\n",
    "    \n",
    "    if shuffle==True:\n",
    "        randperm_mini_batch = np.random.permutation(batch_per_epoch)\n",
    "        input = input.take(randperm_mini_batch, axis=0)\n",
    "        target = target.take(randperm_mini_batch, axis=0)\n",
    "        \n",
    "    for idx in range(input.shape[0]):\n",
    "        yield input[idx], target[idx]"
   ]
  },
  {
   "cell_type": "markdown",
   "metadata": {},
   "source": [
    "# LSTM Model"
   ]
  },
  {
   "cell_type": "code",
   "execution_count": 3,
   "metadata": {},
   "outputs": [],
   "source": [
    "import torch.nn as nn\n",
    "\n",
    "class LSTM(nn.Module):\n",
    "    def __init__(self, input_size, hidden_size, num_layers, dropout, output_size):\n",
    "        super(LSTM, self).__init__()\n",
    "        self.hidden_size = hidden_size\n",
    "        self.num_layers = num_layers\n",
    "        \n",
    "        self.embed = nn.Embedding(input_size, hidden_size)\n",
    "        self.lstm = nn.LSTM(hidden_size, hidden_size, num_layers, batch_first=True, dropout=dropout)\n",
    "        self.fc = nn.Linear(hidden_size, output_size)\n",
    "\n",
    "    def forward(self, x, hidden, cell):\n",
    "        # input x: (N, L)\n",
    "        out = self.embed(x)\n",
    "        # after embedding: (N, L, vocab_size)\n",
    "        out, (hidden, cell) = self.lstm(out, (hidden, cell))\n",
    "        # after LSTM: (N, L, output_size)\n",
    "        out = self.fc(out)\n",
    "        # after FC: (N, L, vocab_size)\n",
    "        return out, (hidden, cell)\n",
    "    \n",
    "    def init_state(self, batch_size):\n",
    "        hidden = torch.zeros((self.num_layers, batch_size, self.hidden_size), requires_grad = True).to(device)\n",
    "        cell = torch.zeros((self.num_layers, batch_size, self.hidden_size), requires_grad = True).to(device)\n",
    "        return hidden, cell"
   ]
  },
  {
   "cell_type": "markdown",
   "metadata": {},
   "source": [
    "# Preparing the Data"
   ]
  },
  {
   "cell_type": "code",
   "execution_count": 4,
   "metadata": {},
   "outputs": [],
   "source": [
    "with open('data/PaulGraham.txt', 'r') as f:\n",
    "    text = f.read()\n",
    "    \n",
    "chars = tuple(set(text))\n",
    "vocab_size = len(chars)\n",
    "int2char = dict(enumerate(chars))\n",
    "char2int = {ch: idx for idx, ch in int2char.items()}\n",
    "encoded = [char2int[ch] for ch in text] "
   ]
  },
  {
   "cell_type": "markdown",
   "metadata": {},
   "source": [
    "# Defining Hyperparameters"
   ]
  },
  {
   "cell_type": "code",
   "execution_count": 7,
   "metadata": {},
   "outputs": [],
   "source": [
    "import torch.optim as optim\n",
    "\n",
    "# LSTM Parameters\n",
    "hidden_dim = 512\n",
    "num_layers = 3\n",
    "dropout = 0.5\n",
    "batch_size = 8\n",
    "sequence_length = 128\n",
    "\n",
    "learning_rate = [1e-3]\n",
    "\n",
    "epochs = 200\n",
    "print_every = 45"
   ]
  },
  {
   "cell_type": "markdown",
   "metadata": {},
   "source": [
    "# Training"
   ]
  },
  {
   "cell_type": "code",
   "execution_count": 8,
   "metadata": {},
   "outputs": [
    {
     "name": "stdout",
     "output_type": "stream",
     "text": [
      "learning rate: 0.001\n"
     ]
    },
    {
     "name": "stderr",
     "output_type": "stream",
     "text": [
      "Epoch 1: : 48batch [00:03, 14.97batch/s, loss=6.25]\n",
      "Epoch 2: : 48batch [00:03, 14.83batch/s, loss=5.82]\n",
      "Epoch 3: : 48batch [00:03, 14.89batch/s, loss=5.6]\n",
      "Epoch 4: : 48batch [00:03, 14.84batch/s, loss=5.47]\n",
      "Epoch 5: : 48batch [00:03, 14.85batch/s, loss=5.36]\n",
      "Epoch 6: : 48batch [00:03, 14.89batch/s, loss=5.27]\n",
      "Epoch 7: : 48batch [00:03, 14.84batch/s, loss=5.18]\n",
      "Epoch 8: : 48batch [00:03, 15.01batch/s, loss=5.13]\n",
      "Epoch 9: : 48batch [00:03, 15.08batch/s, loss=5.06]\n",
      "Epoch 10: : 48batch [00:03, 15.05batch/s, loss=5.03]\n",
      "Epoch 11: : 48batch [00:03, 14.99batch/s, loss=4.97]\n",
      "Epoch 12: : 48batch [00:03, 15.06batch/s, loss=4.92]\n",
      "Epoch 13: : 48batch [00:03, 15.03batch/s, loss=4.87]\n",
      "Epoch 14: : 48batch [00:03, 15.04batch/s, loss=4.83]\n",
      "Epoch 15: : 48batch [00:03, 15.19batch/s, loss=4.8]\n",
      "Epoch 16: : 48batch [00:02, 16.49batch/s, loss=4.79]\n",
      "Epoch 17: : 48batch [00:02, 17.79batch/s, loss=4.73]\n",
      "Epoch 18: : 48batch [00:02, 17.85batch/s, loss=4.68]\n",
      "Epoch 19: : 48batch [00:02, 17.84batch/s, loss=4.67]\n",
      "Epoch 20: : 48batch [00:02, 17.77batch/s, loss=4.63]\n",
      "Epoch 21: : 48batch [00:02, 17.82batch/s, loss=4.58]\n",
      "Epoch 22: : 48batch [00:02, 17.04batch/s, loss=4.56]\n",
      "Epoch 23: : 48batch [00:02, 16.03batch/s, loss=4.51]\n",
      "Epoch 24: : 48batch [00:02, 16.06batch/s, loss=4.5]\n",
      "Epoch 25: : 48batch [00:02, 16.79batch/s, loss=4.48]\n",
      "Epoch 26: : 48batch [00:03, 15.87batch/s, loss=4.48]\n",
      "Epoch 27: : 48batch [00:02, 16.62batch/s, loss=4.43]\n",
      "Epoch 28: : 48batch [00:03, 15.88batch/s, loss=4.41]\n",
      "Epoch 29: : 48batch [00:02, 17.66batch/s, loss=4.4]\n",
      "Epoch 30: : 48batch [00:02, 17.77batch/s, loss=4.37]\n",
      "Epoch 31: : 48batch [00:02, 17.85batch/s, loss=4.37]\n",
      "Epoch 32: : 48batch [00:02, 17.61batch/s, loss=4.29]\n",
      "Epoch 33: : 48batch [00:02, 16.70batch/s, loss=4.31]\n",
      "Epoch 34: : 48batch [00:02, 16.76batch/s, loss=4.27]\n",
      "Epoch 35: : 48batch [00:02, 17.27batch/s, loss=4.25]\n",
      "Epoch 36: : 48batch [00:02, 17.50batch/s, loss=4.25]\n",
      "Epoch 37: : 48batch [00:02, 17.63batch/s, loss=4.19]\n",
      "Epoch 38: : 48batch [00:02, 17.56batch/s, loss=4.23]\n",
      "Epoch 39: : 48batch [00:02, 17.98batch/s, loss=4.21]\n",
      "Epoch 40: : 48batch [00:02, 17.21batch/s, loss=4.18]\n",
      "Epoch 41: : 48batch [00:02, 17.78batch/s, loss=4.17]\n",
      "Epoch 42: : 48batch [00:02, 16.48batch/s, loss=4.17]\n",
      "Epoch 43: : 48batch [00:03, 14.80batch/s, loss=4.17]\n",
      "Epoch 44: : 48batch [00:03, 14.85batch/s, loss=4.15]\n",
      "Epoch 45: : 48batch [00:03, 15.99batch/s, loss=4.13]\n",
      "Epoch 46: : 48batch [00:02, 16.48batch/s, loss=4.13]\n",
      "Epoch 47: : 48batch [00:02, 16.93batch/s, loss=4.11]\n",
      "Epoch 48: : 48batch [00:02, 16.58batch/s, loss=4.1]\n",
      "Epoch 49: : 48batch [00:02, 16.63batch/s, loss=4.08]\n",
      "Epoch 50: : 48batch [00:02, 16.99batch/s, loss=4.07]\n",
      "Epoch 51: : 48batch [00:02, 16.20batch/s, loss=4.08]\n",
      "Epoch 52: : 48batch [00:02, 17.77batch/s, loss=4.06]\n",
      "Epoch 53: : 48batch [00:02, 17.84batch/s, loss=4.04]\n",
      "Epoch 54: : 48batch [00:02, 17.78batch/s, loss=4.04]\n",
      "Epoch 55: : 48batch [00:02, 16.93batch/s, loss=4.02]\n",
      "Epoch 56: : 48batch [00:02, 17.94batch/s, loss=4.01]\n",
      "Epoch 57: : 48batch [00:02, 16.64batch/s, loss=4.02]\n",
      "Epoch 58: : 48batch [00:02, 17.49batch/s, loss=4]\n",
      "Epoch 59: : 48batch [00:02, 17.26batch/s, loss=4.02]\n",
      "Epoch 60: : 48batch [00:02, 16.73batch/s, loss=3.99]\n",
      "Epoch 61: : 48batch [00:02, 17.09batch/s, loss=3.96]\n",
      "Epoch 62: : 48batch [00:02, 17.40batch/s, loss=3.97]\n",
      "Epoch 63: : 48batch [00:02, 17.14batch/s, loss=3.98]\n",
      "Epoch 64: : 48batch [00:02, 16.41batch/s, loss=3.98]\n",
      "Epoch 65: : 48batch [00:02, 17.43batch/s, loss=3.96]\n",
      "Epoch 66: : 48batch [00:02, 17.61batch/s, loss=3.96]\n",
      "Epoch 67: : 48batch [00:02, 18.12batch/s, loss=3.99]\n",
      "Epoch 68: : 48batch [00:02, 18.05batch/s, loss=3.96]\n",
      "Epoch 69: : 48batch [00:02, 17.41batch/s, loss=3.96]\n",
      "Epoch 70: : 48batch [00:02, 17.99batch/s, loss=3.95]\n",
      "Epoch 71: : 48batch [00:02, 17.42batch/s, loss=3.96]\n",
      "Epoch 72: : 48batch [00:02, 17.94batch/s, loss=3.94]\n",
      "Epoch 73: : 48batch [00:02, 17.60batch/s, loss=3.95]\n",
      "Epoch 74: : 48batch [00:02, 16.58batch/s, loss=3.95]\n",
      "Epoch 75: : 48batch [00:02, 17.56batch/s, loss=3.94]\n",
      "Epoch 76: : 48batch [00:02, 16.83batch/s, loss=3.93]\n",
      "Epoch 77: : 48batch [00:02, 17.26batch/s, loss=3.92]\n",
      "Epoch 78: : 48batch [00:02, 17.35batch/s, loss=3.91]\n",
      "Epoch 79: : 48batch [00:02, 17.90batch/s, loss=3.92]\n",
      "Epoch 80: : 48batch [00:02, 17.77batch/s, loss=3.91]\n",
      "Epoch 81: : 48batch [00:02, 17.64batch/s, loss=3.91]\n",
      "Epoch 82: : 48batch [00:02, 17.11batch/s, loss=3.9]\n",
      "Epoch 83: : 48batch [00:03, 15.95batch/s, loss=3.92]\n",
      "Epoch 84: : 48batch [00:03, 14.87batch/s, loss=3.9]\n",
      "Epoch 85: : 48batch [00:03, 14.87batch/s, loss=3.89]\n",
      "Epoch 86: : 48batch [00:03, 14.92batch/s, loss=3.88]\n",
      "Epoch 87: : 48batch [00:03, 14.91batch/s, loss=3.88]\n",
      "Epoch 88: : 48batch [00:03, 14.90batch/s, loss=3.87]\n",
      "Epoch 89: : 48batch [00:03, 14.93batch/s, loss=3.88]\n",
      "Epoch 90: : 48batch [00:03, 14.92batch/s, loss=3.88]\n",
      "Epoch 91: : 48batch [00:03, 14.90batch/s, loss=3.89]\n",
      "Epoch 92: : 48batch [00:03, 14.81batch/s, loss=3.89]\n",
      "Epoch 93: : 48batch [00:03, 14.58batch/s, loss=3.88]\n",
      "Epoch 94: : 48batch [00:03, 14.90batch/s, loss=3.87]\n",
      "Epoch 95: : 48batch [00:03, 14.94batch/s, loss=3.86]\n",
      "Epoch 96: : 48batch [00:03, 14.95batch/s, loss=3.86]\n",
      "Epoch 97: : 48batch [00:03, 14.95batch/s, loss=3.85]\n",
      "Epoch 98: : 48batch [00:03, 14.88batch/s, loss=3.87]\n",
      "Epoch 99: : 48batch [00:03, 14.89batch/s, loss=3.86]\n",
      "Epoch 100: : 48batch [00:03, 14.88batch/s, loss=3.86]\n",
      "Epoch 101: : 48batch [00:03, 14.32batch/s, loss=3.84]\n",
      "Epoch 102: : 48batch [00:03, 14.42batch/s, loss=3.87]\n",
      "Epoch 103: : 48batch [00:03, 14.83batch/s, loss=3.87]\n",
      "Epoch 104: : 48batch [00:03, 14.67batch/s, loss=3.86]\n",
      "Epoch 105: : 48batch [00:03, 14.77batch/s, loss=3.85]\n",
      "Epoch 106: : 48batch [00:03, 14.20batch/s, loss=3.83]\n",
      "Epoch 107: : 48batch [00:03, 13.97batch/s, loss=3.82]\n",
      "Epoch 108: : 48batch [00:03, 13.86batch/s, loss=3.81]\n",
      "Epoch 109: : 48batch [00:03, 14.21batch/s, loss=3.84]\n",
      "Epoch 110: : 48batch [00:03, 14.65batch/s, loss=3.83]\n",
      "Epoch 111: : 48batch [00:03, 14.42batch/s, loss=3.83]\n",
      "Epoch 112: : 48batch [00:03, 14.75batch/s, loss=3.82]\n",
      "Epoch 113: : 48batch [00:03, 14.92batch/s, loss=3.82]\n",
      "Epoch 114: : 48batch [00:03, 14.88batch/s, loss=3.8]\n",
      "Epoch 115: : 48batch [00:03, 14.93batch/s, loss=3.83]\n",
      "Epoch 116: : 48batch [00:03, 14.91batch/s, loss=3.84]\n",
      "Epoch 117: : 48batch [00:03, 14.94batch/s, loss=3.8]\n",
      "Epoch 118: : 48batch [00:03, 14.89batch/s, loss=3.81]\n",
      "Epoch 119: : 48batch [00:03, 14.92batch/s, loss=3.8]\n",
      "Epoch 120: : 48batch [00:03, 14.91batch/s, loss=3.81]\n",
      "Epoch 121: : 48batch [00:03, 14.84batch/s, loss=3.8]\n",
      "Epoch 122: : 48batch [00:03, 14.89batch/s, loss=3.79]\n",
      "Epoch 123: : 48batch [00:03, 15.00batch/s, loss=3.79]\n",
      "Epoch 124: : 48batch [00:03, 14.91batch/s, loss=3.81]\n",
      "Epoch 125: : 48batch [00:03, 14.89batch/s, loss=3.76]\n",
      "Epoch 126: : 48batch [00:03, 14.90batch/s, loss=3.77]\n",
      "Epoch 127: : 48batch [00:03, 14.91batch/s, loss=3.83]\n",
      "Epoch 128: : 48batch [00:03, 14.89batch/s, loss=3.82]\n",
      "Epoch 129: : 48batch [00:03, 14.91batch/s, loss=3.8]\n",
      "Epoch 130: : 48batch [00:03, 14.98batch/s, loss=3.8]\n",
      "Epoch 131: : 48batch [00:03, 14.96batch/s, loss=3.78]\n",
      "Epoch 132: : 48batch [00:03, 14.91batch/s, loss=3.77]\n",
      "Epoch 133: : 48batch [00:03, 14.92batch/s, loss=3.78]\n",
      "Epoch 134: : 48batch [00:03, 14.90batch/s, loss=3.81]\n",
      "Epoch 135: : 48batch [00:03, 14.93batch/s, loss=3.77]\n",
      "Epoch 136: : 48batch [00:03, 14.95batch/s, loss=3.78]\n",
      "Epoch 137: : 48batch [00:03, 14.93batch/s, loss=3.77]\n",
      "Epoch 138: : 48batch [00:03, 14.91batch/s, loss=3.78]\n",
      "Epoch 139: : 48batch [00:03, 14.89batch/s, loss=3.75]\n",
      "Epoch 140: : 48batch [00:03, 14.89batch/s, loss=3.79]\n",
      "Epoch 141: : 48batch [00:03, 14.89batch/s, loss=3.78]\n",
      "Epoch 142: : 48batch [00:03, 14.96batch/s, loss=3.78]\n",
      "Epoch 143: : 48batch [00:03, 14.92batch/s, loss=3.78]\n",
      "Epoch 144: : 48batch [00:03, 14.90batch/s, loss=3.79]\n",
      "Epoch 145: : 48batch [00:03, 14.91batch/s, loss=3.77]\n",
      "Epoch 146: : 48batch [00:03, 14.92batch/s, loss=3.78]\n",
      "Epoch 147: : 48batch [00:03, 14.92batch/s, loss=3.75]\n",
      "Epoch 148: : 48batch [00:03, 14.89batch/s, loss=3.76]\n",
      "Epoch 149: : 48batch [00:03, 14.88batch/s, loss=3.75]\n",
      "Epoch 150: : 48batch [00:03, 14.86batch/s, loss=3.77]\n",
      "Epoch 151: : 48batch [00:03, 14.91batch/s, loss=3.78]\n",
      "Epoch 152: : 48batch [00:03, 14.91batch/s, loss=3.76]\n",
      "Epoch 153: : 48batch [00:03, 14.89batch/s, loss=3.76]\n",
      "Epoch 154: : 48batch [00:03, 14.88batch/s, loss=3.75]\n",
      "Epoch 155: : 48batch [00:03, 14.91batch/s, loss=3.75]\n",
      "Epoch 156: : 48batch [00:03, 14.91batch/s, loss=3.75]\n",
      "Epoch 157: : 48batch [00:03, 14.86batch/s, loss=3.73]\n",
      "Epoch 158: : 48batch [00:03, 14.88batch/s, loss=3.75]\n",
      "Epoch 159: : 48batch [00:03, 14.94batch/s, loss=3.75]\n",
      "Epoch 160: : 48batch [00:03, 14.91batch/s, loss=3.75]\n",
      "Epoch 161: : 48batch [00:03, 14.93batch/s, loss=3.76]\n",
      "Epoch 162: : 48batch [00:03, 14.75batch/s, loss=3.72]\n",
      "Epoch 163: : 48batch [00:03, 14.95batch/s, loss=3.74]\n",
      "Epoch 164: : 48batch [00:03, 14.92batch/s, loss=3.73]\n",
      "Epoch 165: : 48batch [00:03, 14.94batch/s, loss=3.75]\n",
      "Epoch 166: : 48batch [00:03, 14.87batch/s, loss=3.74]\n",
      "Epoch 167: : 48batch [00:03, 14.91batch/s, loss=3.73]\n",
      "Epoch 168: : 48batch [00:03, 14.78batch/s, loss=3.73]\n",
      "Epoch 169: : 48batch [00:03, 14.23batch/s, loss=3.74]\n",
      "Epoch 170: : 48batch [00:03, 14.41batch/s, loss=3.72]\n",
      "Epoch 171: : 48batch [00:03, 14.24batch/s, loss=3.73]\n",
      "Epoch 172: : 48batch [00:03, 14.58batch/s, loss=3.73]\n",
      "Epoch 173: : 48batch [00:03, 14.82batch/s, loss=3.74]\n",
      "Epoch 174: : 48batch [00:03, 14.52batch/s, loss=3.72]\n",
      "Epoch 175: : 48batch [00:03, 14.70batch/s, loss=3.74]\n",
      "Epoch 176: : 48batch [00:03, 14.88batch/s, loss=3.72]\n",
      "Epoch 177: : 48batch [00:03, 14.62batch/s, loss=3.73]\n",
      "Epoch 178: : 48batch [00:03, 14.88batch/s, loss=3.74]\n",
      "Epoch 179: : 48batch [00:03, 14.89batch/s, loss=3.72]\n",
      "Epoch 180: : 48batch [00:03, 14.26batch/s, loss=3.72]\n",
      "Epoch 181: : 48batch [00:03, 14.61batch/s, loss=3.72]\n",
      "Epoch 182: : 48batch [00:03, 14.58batch/s, loss=3.74]\n",
      "Epoch 183: : 48batch [00:03, 14.02batch/s, loss=3.71]\n",
      "Epoch 184: : 48batch [00:03, 14.48batch/s, loss=3.74]\n",
      "Epoch 185: : 48batch [00:03, 14.72batch/s, loss=3.72]\n",
      "Epoch 186: : 48batch [00:03, 14.91batch/s, loss=3.72]\n",
      "Epoch 187: : 48batch [00:03, 14.95batch/s, loss=3.7]\n",
      "Epoch 188: : 48batch [00:03, 14.95batch/s, loss=3.71]\n",
      "Epoch 189: : 48batch [00:03, 14.65batch/s, loss=3.71]\n",
      "Epoch 190: : 48batch [00:03, 14.85batch/s, loss=3.72]\n",
      "Epoch 191: : 48batch [00:03, 14.90batch/s, loss=3.71]\n",
      "Epoch 192: : 48batch [00:03, 14.90batch/s, loss=3.7]\n",
      "Epoch 193: : 48batch [00:03, 14.89batch/s, loss=3.72]\n",
      "Epoch 194: : 48batch [00:03, 14.89batch/s, loss=3.7]\n",
      "Epoch 195: : 48batch [00:03, 14.86batch/s, loss=3.7]\n",
      "Epoch 196: : 48batch [00:03, 14.90batch/s, loss=3.7]\n",
      "Epoch 197: : 48batch [00:03, 14.91batch/s, loss=3.71]\n",
      "Epoch 198: : 48batch [00:03, 14.90batch/s, loss=3.68]\n",
      "Epoch 199: : 48batch [00:03, 14.85batch/s, loss=3.7]\n",
      "Epoch 200: : 48batch [00:03, 14.89batch/s, loss=3.72]\n",
      "100%|██████████| 200/200 [10:18<00:00,  3.09s/it]\n"
     ]
    }
   ],
   "source": [
    "import torch.nn.functional as F\n",
    "from tqdm.auto import tqdm\n",
    "from tqdm.auto import trange\n",
    "\n",
    "for lr in learning_rate:\n",
    "    print(f\"learning rate: {lr}\")\n",
    "    model = LSTM(vocab_size, hidden_dim, num_layers, dropout, vocab_size).to(device)\n",
    "    criterion = nn.CrossEntropyLoss()\n",
    "    optimizer = optim.RMSprop(model.parameters(), lr=lr)\n",
    "    model.train()\n",
    "    loss_list = []\n",
    "    \n",
    "    # epoch\n",
    "    for epoch in trange(1, epochs + 1):  \n",
    "        batches = get_batch_SGD(encoded, batch_size, sequence_length, shuffle=False)\n",
    "        with tqdm(batches, unit=\"batch\", leave=True) as tepoch:\n",
    "        # mini-batch\n",
    "            for input, target in tepoch:\n",
    "                tepoch.set_description(f\"Epoch {epoch}\")\n",
    "                \n",
    "                input_ = torch.from_numpy(input).long().to(device)\n",
    "                target_ = torch.from_numpy(target).long().to(device)\n",
    "                target_ = F.one_hot(target_, vocab_size).float()\n",
    "                hidden, cell = model.init_state(batch_size)\n",
    "                \n",
    "                optimizer.zero_grad()\n",
    "                pred, (hidden, cell) = model(input_, hidden, cell)\n",
    "                loss = criterion(pred, target_)\n",
    "\n",
    "                loss.backward()\n",
    "                optimizer.step()\n",
    "                \n",
    "                tepoch.set_postfix(loss=loss.item())\n",
    "                \n",
    "            loss_list.append(loss.item())\n",
    "            \n"
   ]
  },
  {
   "cell_type": "markdown",
   "metadata": {},
   "source": [
    "# Additional Training"
   ]
  },
  {
   "cell_type": "code",
   "execution_count": 9,
   "metadata": {},
   "outputs": [],
   "source": [
    "# model.train()\n",
    "# for epoch in trange(1, epochs + 1):  \n",
    "#     batches = get_batch_SGD(encoded, batch_size, sequence_length, shuffle=False)\n",
    "#     with tqdm(batches, unit=\"batch\", leave=True) as tepoch:\n",
    "#     # mini-batch\n",
    "#         for input, target in tepoch:\n",
    "#             tepoch.set_description(f\"Epoch {epoch}\")\n",
    "            \n",
    "#             input_ = torch.from_numpy(input).long().to(device)\n",
    "#             target_ = torch.from_numpy(target).long().to(device)\n",
    "#             target_ = F.one_hot(target_, vocab_size).float()\n",
    "#             hidden, cell = model.init_state(batch_size)\n",
    "            \n",
    "#             optimizer.zero_grad()\n",
    "#             pred, (hidden, cell)= model(input_, hidden, cell)\n",
    "#             loss = criterion(pred, target_)\n",
    "\n",
    "#             loss.backward()\n",
    "#             optimizer.step()\n",
    "            \n",
    "#             tepoch.set_postfix(loss=loss.item())\n",
    "            \n",
    "#         loss_list.append(loss.item())"
   ]
  },
  {
   "cell_type": "markdown",
   "metadata": {},
   "source": [
    "# Draw loss curve"
   ]
  },
  {
   "cell_type": "code",
   "execution_count": 10,
   "metadata": {},
   "outputs": [
    {
     "data": {
      "text/plain": [
       "[<matplotlib.lines.Line2D at 0x7f87f0ba7160>]"
      ]
     },
     "execution_count": 10,
     "metadata": {},
     "output_type": "execute_result"
    },
    {
     "data": {
      "image/png": "[encoded data removed]",
      "text/plain": [
       "<Figure size 432x288 with 1 Axes>"
      ]
     },
     "metadata": {
      "needs_background": "light"
     },
     "output_type": "display_data"
    }
   ],
   "source": [
    "import matplotlib.pyplot as plt\n",
    "\n",
    "plt.figure()\n",
    "plt.plot(loss_list)"
   ]
  },
  {
   "cell_type": "markdown",
   "metadata": {},
   "source": [
    "# Text Generating"
   ]
  },
  {
   "cell_type": "code",
   "execution_count": 11,
   "metadata": {},
   "outputs": [],
   "source": [
    "def generate(initial_str=\"A\", predict_len=10000, sequence_length=1):\n",
    "    model.eval()\n",
    "    hidden, cell = model.init_state(1)\n",
    "    \n",
    "    initial_tensor = torch.zeros((1,sequence_length)).long()\n",
    "    initial_tensor[0][0] = char2int[initial_str]\n",
    "\n",
    "    predicted = initial_str\n",
    "\n",
    "    last_char = initial_tensor\n",
    "\n",
    "    for p in range(predict_len):\n",
    "        output, (hidden, cell) = model(last_char.to(device), hidden, cell)\n",
    "        topi = torch.argmax(output, dim=2)\n",
    "        predicted_char = int2char[topi.item()]\n",
    "        predicted += predicted_char\n",
    "        \n",
    "        last_char = torch.zeros((1, sequence_length)).long()\n",
    "        last_char[0][0] = char2int[predicted_char]\n",
    "        \n",
    "    return predicted\n",
    "\n",
    "generated_text = generate()"
   ]
  },
  {
   "cell_type": "code",
   "execution_count": 12,
   "metadata": {},
   "outputs": [
    {
     "name": "stdout",
     "output_type": "stream",
     "text": [
      "A q%8qâ?â”B”c100 j0 VC]â€”BB85â€”q”8qq”q”qqqqqqqqqqqqqqqqqqqqqqqqqqqqqqqqqqqqqqqqqqqqqqqqqqqqqqqqqqqqqqqqqqqqqqqqqqqqqqqqqqqqqqqqqqqqqqqqqqqqqqqqqqqqqqqqqqqqqqqqqqqqqqqqqqqqqqqqqqqqqqqqqqqqqqqqqqqqqqqqqqqqqqqqqqqqqqqqqqqqqqqqqqqqqqqqqqqqqqqqqqqqqqqqqqqqqqqqqqqqqqqqqqqqqqqqqqqqqqqqqqqqqqqqqqqqqqqqqqqqqqqqqqqqqqqqqqqqqqqqqqqqqqqqqqqqqqqqqqqqqqqqqqqqqqqqqqqqqqqqqqqqqqqqqqqqqqqqqqqqqqqqqqqqqqqqqqqqqqqqqqqqqqqqqqqqqqqqqqqqqqqqqqqqqqqqqqqqqqqqqqqqqqqqqqqqqqqqqqqqqqqqqqqqqqqqqqqqqqqqqqqqqqqqqqqqqqqqqqqqqqqqqqqqqqqqqqqqqqqqqqqqqqqqqqqqqqqqqqqqqqqqqqqqqqqqqqqqqqqqqqqqqqqqqqqqqqqqqqqqqqqqqqqqqqqqqqqqqqqqqqqqqqqqqqqqqqqqqqqqqqqqqqqqqqqqqqqqqqqqqqqqqqqqqqqqqqqqqqqqqqqqqqqqqqqqqqqqqqqqqqqqqqqqqqqqqqqqqqqqqqqqqqqqqqqqqqqqqqqqqqqqqqqqqqqqqqqqqqqqqqqqqqqqqqqqqqqqqqqqqqqqqqqqqqqqqqqqqqqqqqqqqqqqqqqqqqqqqqqqqqqqqqqqqqqqqqqqqqqqqqqqqqqqqqqqqqqqqqqqqqqqqqqqqqqqqqqqqqqqqqqqqqqqqqqqqqqqqqqqqqqqqqqqqqqqqqqqqqqqqqqqqqqqqqqqqqqqqqqqqqqqqqqqqqqqqqqqqqqqqqqqqqqqqqqqqqqqqqqqqqqqqqqqqqqqqqqqqqqqqqqqqqqqqqqqqqqqqqqqqqqqqqqqqqqqqqqqqqqqqqqqqqqqqqqqqqqqqqqqqqqqqqqqqqqqqqqqqqqqqqqqqqqqqqqqqqqqqqqqqqqqqqqqqqqqqqqqqqqqqqqqqqqqqqqqqqqqqqqqqqqqqqqqqqqqqqqqqqqqqqqqqqqqqqqqqqqqqqqqqqqqqqqqqqqqqqqqqqqqqqqqqqqqqqqqqqqqqqqqqqqqqqqqqqqqqqqqqqqqqqqqqqqqqqqqqqqqqqqqqqqqqqqqqqqqqqqqqqqqqqqqqqqqqqqqqqqqqqqqqqqqqqqqqqqqqqqqqqqqqqqqqqqqqqqqqqqqqqqqqqqqqqqqqqqqqqqqqqqqqqqqqqqqqqqqqqqqqqqqqqqqqqqqqqqqqqqqqqqqqqqqqqqqqqqqqqqqqqqqqqqqqqqqqqqqqqqqqqqqqqqqqqqqqqqqqqqqqqqqqqqqqqqqqqqqqqqqqqqqqqqqqqqqqqqqqqqqqqqqqqqqqqqqqqqqqqqqqqqqqqqqqqqqqqqqqqqqqqqqqqqqqqqqqqqqqqqqqqqqqqqqqqqqqqqqqqqqqqqqqqqqqqqqqqqqqqqqqqqqqqqqqqqqqqqqqqqqqqqqqqqqqqqqqqqqqqqqqqqqqqqqqqqqqqqqqqqqqqqqqqqqqqqqqqqqqqqqqqqqqqqqqqqqqqqqqqqqqqqqqqqqqqqqqqqqqqqqqqqqqqqqqqqqqqqqqqqqqqqqqqqqqqqqqqqqqqqqqqqqqqqqqqqqqqqqqqqqqqqqqqqqqqqqqqqqqqqqqqqqqqqqqqqqqqqqqqqqqqqqqqqqqqqqqqqqqqqqqqqqqqqqqqqqqqqqqqqqqqqqqqqqqqqqqqqqqqqqqqqqqqqqqqqqqqqqqqqqqqqqqqqqqqqqqqqqqqqqqqqqqqqqqqqqqqqqqqqqqqqqqqqqqqqqqqqqqqqqqqqqqqqqqqqqqqqqqqqqqqqqqqqqqqqqqqqqqqqqqqqqqqqqqqqqqqqqqqqqqqqqqqqqqqqqqqqqqqqqqqqqqqqqqqqqqqqqqqqqqqqqqqqqqqqqqqqqqqqqqqqqqqqqqqqqqqqqqqqqqqqqqqqqqqqqqqqqqqqqqqqqqqqqqqqqqqqqqqqqqqqqqqqqqqqqqqqqqqqqqqqqqqqqqqqqqqqqqqqqqqqqqqqqqqqqqqqqqqqqqqqqqqqqqqqqqqqqqqqqqqqqqqqqqqqqqqqqqqqqqqqqqqqqqqqqqqqqqqqqqqqqqqqqqqqqqqqqqqqqqqqqqqqqqqqqqqqqqqqqqqqqqqqqqqqqqqqqqqqqqqqqqqqqqqqqqqqqqqqqqqqqqqqqqqqqqqqqqqqqqqqqqqqqqqqqqqqqqqqqqqqqqqqqqqqqqqqqqqqqqqqqqqqqqqqqqqqqqqqqqqqqqqqqqqqqqqqqqqqqqqqqqqqqqqqqqqqqqqqqqqqqqqqqqqqqqqqqqqqqqqqqqqqqqqqqqqqqqqqqqqqqqqqqqqqqqqqqqqqqqqqqqqqqqqqqqqqqqqqqqqqqqqqqqqqqqqqqqqqqqqqqqqqqqqqqqqqqqqqqqqqqqqqqqqqqqqqqqqqqqqqqqqqqqqqqqqqqqqqqqqqqqqqqqqqqqqqqqqqqqqqqqqqqqqqqqqqqqqqqqqqqqqqqqqqqqqqqqqqqqqqqqqqqqqqqqqqqqqqqqqqqqqqqqqqqqqqqqqqqqqqqqqqqqqqqqqqqqqqqqqqqqqqqqqqqqqqqqqqqqqqqqqqqqqqqqqqqqqqqqqqqqqqqqqqqqqqqqqqqqqqqqqqqqqqqqqqqqqqqqqqqqqqqqqqqqqqqqqqqqqqqqqqqqqqqqqqqqqqqqqqqqqqqqqqqqqqqqqqqqqqqqqqqqqqqqqqqqqqqqqqqqqqqqqqqqqqqqqqqqqqqqqqqqqqqqqqqqqqqqqqqqqqqqqqqqqqqqqqqqqqqqqqqqqqqqqqqqqqqqqqqqqqqqqqqqqqqqqqqqqqqqqqqqqqqqqqqqqqqqqqqqqqqqqqqqqqqqqqqqqqqqqqqqqqqqqqqqqqqqqqqqqqqqqqqqqqqqqqqqqqqqqqqqqqqqqqqqqqqqqqqqqqqqqqqqqqqqqqqqqqqqqqqqqqqqqqqqqqqqqqqqqqqqqqqqqqqqqqqqqqqqqqqqqqqqqqqqqqqqqqqqqqqqqqqqqqqqqqqqqqqqqqqqqqqqqqqqqqqqqqqqqqqqqqqqqqqqqqqqqqqqqqqqqqqqqqqqqqqqqqqqqqqqqqqqqqqqqqqqqqqqqqqqqqqqqqqqqqqqqqqqqqqqqqqqqqqqqqqqqqqqqqqqqqqqqqqqqqqqqqqqqqqqqqqqqqqqqqqqqqqqqqqqqqqqqqqqqqqqqqqqqqqqqqqqqqqqqqqqqqqqqqqqqqqqqqqqqqqqqqqqqqqqqqqqqqqqqqqqqqqqqqqqqqqqqqqqqqqqqqqqqqqqqqqqqqqqqqqqqqqqqqqqqqqqqqqqqqqqqqqqqqqqqqqqqqqqqqqqqqqqqqqqqqqqqqqqqqqqqqqqqqqqqqqqqqqqqqqqqqqqqqqqqqqqqqqqqqqqqqqqqqqqqqqqqqqqqqqqqqqqqqqqqqqqqqqqqqqqqqqqqqqqqqqqqqqqqqqqqqqqqqqqqqqqqqqqqqqqqqqqqqqqqqqqqqqqqqqqqqqqqqqqqqqqqqqqqqqqqqqqqqqqqqqqqqqqqqqqqqqqqqqqqqqqqqqqqqqqqqqqqqqqqqqqqqqqqqqqqqqqqqqqqqqqqqqqqqqqqqqqqqqqqqqqqqqqqqqqqqqqqqqqqqqqqqqqqqqqqqqqqqqqqqqqqqqqqqqqqqqqqqqqqqqqqqqqqqqqqqqqqqqqqqqqqqqqqqqqqqqqqqqqqqqqqqqqqqqqqqqqqqqqqqqqqqqqqqqqqqqqqqqqqqqqqqqqqqqqqqqqqqqqqqqqqqqqqqqqqqqqqqqqqqqqqqqqqqqqqqqqqqqqqqqqqqqqqqqqqqqqqqqqqqqqqqqqqqqqqqqqqqqqqqqqqqqqqqqqqqqqqqqqqqqqqqqqqqqqqqqqqqqqqqqqqqqqqqqqqqqqqqqqqqqqqqqqqqqqqqqqqqqqqqqqqqqqqqqqqqqqqqqqqqqqqqqqqqqqqqqqqqqqqqqqqqqqqqqqqqqqqqqqqqqqqqqqqqqqqqqqqqqqqqqqqqqqqqqqqqqqqqqqqqqqqqqqqqqqqqqqqqqqqqqqqqqqqqqqqqqqqqqqqqqqqqqqqqqqqqqqqqqqqqqqqqqqqqqqqqqqqqqqqqqqqqqqqqqqqqqqqqqqqqqqqqqqqqqqqqqqqqqqqqqqqqqqqqqqqqqqqqqqqqqqqqqqqqqqqqqqqqqqqqqqqqqqqqqqqqqqqqqqqqqqqqqqqqqqqqqqqqqqqqqqqqqqqqqqqqqqqqqqqqqqqqqqqqqqqqqqqqqqqqqqqqqqqqqqqqqqqqqqqqqqqqqqqqqqqqqqqqqqqqqqqqqqqqqqqqqqqqqqqqqqqqqqqqqqqqqqqqqqqqqqqqqqqqqqqqqqqqqqqqqqqqqqqqqqqqqqqqqqqqqqqqqqqqqqqqqqqqqqqqqqqqqqqqqqqqqqqqqqqqqqqqqqqqqqqqqqqqqqqqqqqqqqqqqqqqqqqqqqqqqqqqqqqqqqqqqqqqqqqqqqqqqqqqqqqqqqqqqqqqqqqqqqqqqqqqqqqqqqqqqqqqqqqqqqqqqqqqqqqqqqqqqqqqqqqqqqqqqqqqqqqqqqqqqqqqqqqqqqqqqqqqqqqqqqqqqqqqqqqqqqqqqqqqqqqqqqqqqqqqqqqqqqqqqqqqqqqqqqqqqqqqqqqqqqqqqqqqqqqqqqqqqqqqqqqqqqqqqqqqqqqqqqqqqqqqqqqqqqqqqqqqqqqqqqqqqqqqqqqqqqqqqqqqqqqqqqqqqqqqqqqqqqqqqqqqqqqqqqqqqqqqqqqqqqqqqqqqqqqqqqqqqqqqqqqqqqqqqqqqqqqqqqqqqqqqqqqqqqqqqqqqqqqqqqqqqqqqqqqqqqqqqqqqqqqqqqqqqqqqqqqqqqqqqqqqqqqqqqqqqqqqqqqqqqqqqqqqqqqqqqqqqqqqqqqqqqqqqqqqqqqqqqqqqqqqqqqqqqqqqqqqqqqqqqqqqqqqqqqqqqqqqqqqqqqqqqqqqqqqqqqqqqqqqqqqqqqqqqqqqqqqqqqqqqqqqqqqqqqqqqqqqqqqqqqqqqqqqqqqqqqqqqqqqqqqqqqqqqqqqqqqqqqqqqqqqqqqqqqqqqqqqqqqqqqqqqqqqqqqqqqqqqqqqqqqqqqqqqqqqqqqqqqqqqqqqqqqqqqqqqqqqqqqqqqqqqqqqqqqqqqqqqqqqqqqqqqqqqqqqqqqqqqqqqqqqqqqqqqqqqqqqqqqqqqqqqqqqqqqqqqqqqqqqqqqqqqqqqqqqqqqqqqqqqqqqqqqqqqqqqqqqqqqqqqqqqqqqqqqqqqqqqqqqqqqqqqqqqqqqqqqqqqqqqqqqqqqqqqqqqqqqqqqqqqqqqqqqqqqqqqqqqqqqqqqqqqqqqqqqqqqqqqqqqqqqqqqqqqqqqqqqqqqqqqqqqqqqqqqqqqqqqqqqqqqqqqqqqqqqqqqqqqqqqqqqqqqqqqqqqqqqqqqqqqqqqqqqqqqqqqqqqqqqqqqqqqqqqqqqqqqqqqqqqqqqqqqqqqqqqqqqqqqqqqqqqqqqqqqqqqqqqqqqqqqqqqqqqqqqqqqqqqqqqqqqqqqqqqqqqqqqqqqqqqqqqqqqqqqqqqqqqqqqqqqqqqqqqqqqqqqqqqqqqqqqqqqqqqqqqqqqqqqqqqqqqqqqqqqqqqqqqqqqqqqqqqqqqqqqqqqqqqqqqqqqqqqqqqqqqqqqqqqqqqqqqqqqqqqqqqqqqqqqqqqqqqqqqqqqqqqqqqqqqqqqqqqqqqqqqqqqqqqqqqqqqqqqqqqqqqqqqqqqqqqqqqqqqqqqqqqqqqqqqqqqqqqqqqqqqqqqqqqqqqqqqqqqqqqqqqqqqqqqqqqqqqqqqqqqqqqqqqqqqqqqqqqqqqqqqqqqqqqqqqqqqqqqqqqqqqqqqqqqqqqqqqqqqqqqqqqqqqqqqqqqqqqqqqqqqqqqqqqqqqqqqqqqqqqqqqqqqqqqqqqqqqqqqqqqqqqqqqqqqqqqqqqqqqqqqqqqqqqqqqqqqqqqqqqqqqqqqqqqqqqqqqqqqqqqqqqqqqqqqqqqqqqqqqqqqqqqqqqqqqqqqqqqqqqqqqqqqqqqqqqqqqqqqqqqqqqqqqqqqqqqqqqqqqqqqqqqqqqqqqqqqqqqqqqqqqqqqqqqqqqqqqqqqqqqqqqqqqqqqqqqqqqqqqqqqqqqqqqqqqqqqqqqqqqqqqqqqqqqqqqqqqqqqqqqqqqqqqqqqqqqqqqqqqqqqqqqqqqqqqqqqqqqqqqqqqqqqqqqqqqqqqqqqqqqqqqqqqqqqqqqqqqqqqqqqqqqqqqqqqqqqqqqqqqqqqqqqqqqqqqqqqqqqqqqqqqqqqqqqqqqqqqqqqqqqqqqqqqqqqqqqqqqqqqqqqqqqqqqqqqqqqqqqqqqqqqqqqqqqqqqqqqqqqqqqqqqqqqqqqqqqqqqqqqqqqqqqqqqqqqqqqqqqqqqqqqqqqqqqqqqqqqqqqqqqqqqqqqqqqqqqqqqqqqqqqqqqqqqqqqqqqqqqqqqqqqqqqqqqqqqqqqqqqqqqqqqqqqqqqqqqqqqqqqqqqqqqqqqqqqqqqqqqqqqqqqqqqqqqqqqqqqqqqqqqqqqqqqqqqqqqqqqqqqqqqqqqqqqqqqqqqqqqqqqqqqqqqqqqqqqqqqqqqqqqqqqqqqqqqqqqqqqqqqqqqqqqqqqqqqqqqqqqqqqqqqqqqqqqqqqqqqqqqqqqqqqqqqqqqqqqqqqqqqqqqqqqqqqqqqqqqqqqqqqqqqqqqqqqqqqqqqqqqqqqqqqqqqqqqqqqqqqqqqqqqqqqqqqqqqqqqqqqqqqqqqqqqqqqqqqqqqqqqqqqqqqqqqqqqqqqqqqqqqqqqqqqqqqqqqqqqqqqqqqqqqqqqqqqqqqqqqqqqqqqqqqqqqqqqqqqqqqqqqqqqqqqqqqqqqqqqqqqqqqqqqqqqqqqqqqqqqqqqqqqqqqqqqqqqqqqqqqqqqqqqqqqqqqqqqqqqqqqqqqqqqqqqqqqqqqqqqqqqqqqqqqqqqqqqqqqqqqqqqqqqqqqqqqqqqqqqqqqqqqqqqqqqqqqqqqqqqqqqqqqqqqqqqqqqqqqqqqqqqqqqqqqqqqqqqqqqqqqqqqqqqqqqqqqqqqqqqqqqqqqqqqqqqqqqqqqqqqqqqqqqqqqqqqqqqqqqqqqqqqqqqqqqqqqqqqqqqqqqqqqqqqqqqqqqqqqqqqqqqqqqqqqqqqqqqqqqqqqqqqqqqqqqqqqqqqqqqqqqqqqqqqqqqqqqqqqqqqqqqqqqqqqqqqqqqqqqqqqqqqqqqqqqqqqqqqqqqqqqqqqqqqqqqqqqqqqqqqqqqqqqqqqqqqqqqqqqqqqqqqqqqqqqqqqqqqqqqqqqqqqqqqqqqqqqqqqqqqqqqqqqqqqqqqqqqqqqqqqqqqqqqqqqqqqqqqqqqqqqqqqqqqqqqqqqqqqqqqqqqqqqqqqqqqqqqqqqqqqqqqqqqqqqqqqqqqqqqqqqqqqqqqqqqqqqqqqqqqqqqqqqqqqqqqqqqqqqqqqqqqqqqqqqqqqqqqqqqqqqqqqqqqqqqqqqqqqqqqqqqqqqqqqqqqqqqqqqqqqqqqqqqqqqqqqqqqqqqqqqqqqqqqqqqqqqqqqqqqqqqqqqqqqqqqqqqqqqqqqqqqqqqqqqqqqqqqqqqqqqqqqqqqqqqqqqqqqqqqqqqqqqqqqqqqqqqqqqqqqqqqqqqqqqqqqqqqqqqqqqqqqqqqqqqqqqqqqqqqqqqqqqqqqqqqqqqqqqqqqqqqqqqqqqqqqqqqqqqqqqqqqqqqqqqqqqqqqqqqqqqqqqqqqqqqqqqqqqqqqqqqqqqqqqqqqqqqqqqqqqqqqqqqqqqqqqqqqqqqqqqqqqqqqqqqqqqqqqqqqqqqqqqqqqqqqqqqqqqqqqqqqqqqqqqqqqqqqqqqqqqqqqqqqqqqqqqqqqqqqqqqqqqqqqqqqqqqqqqqqqqqqqqqqqqqqqqqqqqqqqqqqqqqqqqqqqqqqqqqqqqqqqqqqqqqqqqqqqqqqqqqqqqqqqqqqqqqqqqqqqqqqqqqqqqqqqqqqqqqqqqqqqqqqqqqqqqqqqqqqqqqqqqqqqqqqqqqqqqqqqqqqqqqqqqqqqqqqqqqqqqqqqqqqqqqqqqqqqqqqqqqqqqqqqqqqqqqqqqqqqqqqqqqqqqqqqqqqqqqqqqqqqqqqqqqqqqqqqqqqqqqqqqqqqqqqqqqqqqqqqqqqqqqqqqqqqqqqqqqqqqqqqqqqqqqqqqqqqqqqqqqqqqqqqqqqqqqqqqqqqqqqqqqqqqqqqqqqqqqqqqqqqqqqqqqqqqqqqqqqqqqqqqqqqqqqqqqqqqqqqqqqqqqqqqqqqqqqqqqqqqqqqqqqqqqqqqqqqqqqqqqqqqqqqqqqqqqqqqqqqqqqqqqqqqqqqqqqqqqqqqqqqqqqqqqqqqqqqqqqqqqqqqqqqqqqqqqqqqqqqqqqqqqqqqqqqqqqqqqqqqqqqqqqqqqqqqqqqqqqqqqqqqqqqqqqqqqqqqqqqqqqqqqqqqqqqqqqqqqqqqqqqqqqqqqqqqqqqqqqqqqqqqqqqqqqqqqqqqqqqqqqqqqqqqqqqqqqqqqqqqqqqqqqqqqqqqqqqqqqqqqqqqqqqqqqqqqqqqqqqqqqqqqqqqqqqqqqqqqqqqqqqqqqqqqqqqqqqqqqqqqqqqqqqqqqqqqqqqqqqqqqqqqqqqqqqqqqqqqqqqqqqqqqqqqqqqqqqqqqqqqqqqqqqqqqqqqqqqqqqqqqqqqqqqqqqqqqqqqqqqqqqqqqqqqqqqqqqqqqqqqqqqqqqqqqqqqqqqqqqqqqqqqqqqqqqqqqqqqqqqqqqqqqqqqqqqqqqqqqqqqqqqqqqqqqqqqqqqqqqqqqqqqqqqqqqqqqqqqqqqqqqqqqqqqqqqqqqqqqqqqqqqqqqqqqqqqqqqqqqqqqqqqqqqqqqqqqqqqqqqqqqqqqqqqqqqqqqqqqqqqqqqqqqqqqqqqqqqqqqqqqqqqqqqqqqqqqqqqqqqqqqqqqqqqqqqqqqqqqqqqqqqqqqqqqqqqqqqqqqqqqqqqqqqqqqqqqqqqqqqqqqqqqqqqqqqqqqqqqqqqqqqqqqqqqqqqqqqqqqqqqqqqqqqqqqqqqqqqqqqqqqqqqqqqqqqqqqqqqqqqqqqqqqqqqqqqqqqqqqqqqqqqqqqqqqqqqqqqqqqqqqqqqqqqqqqqqqqqqqqqqqqqqqqqqqqqqqqqqqqqqqqqqqqqqqqqqqqqqqqqqqqqqqqqqqqqqqqqqqqqqqqqqqqqqqqqqqqqqqqqqqqqqqqqqqqqqqqqqqqqqqqqqqqqqqqqqqqqqqqqqqqqqqqqqqqqqqqqqqqqqqqqqqqqqqqqqqqqqqqqqqqqqqqqqqqqqqqqqqqqqqqqqqqqqqqqqqqqqqqqqqqqqqqqqqqqqqqqqqqqqqqqqqqqqqqqqqqqqqqqqqqqqqqqqqqqqqqqqqqqqqqqqqqqqqqqqqqqqqqqqqqqqqqqqqqqqqqqqqqqqqqqqqqqqqqqqqqqqqqqqqqqqqqqqqqqqqqqqqqqqqqqqqqqqqqqqqqqqqqqqqqqqqqqqqqqqqqqqqqqqqqqqqqqqqqqqqqqqqqqqqqqqqqqqqqqqqqqqqqqqqqqqqqqqqqqqqqqqqqqqqqqqqqqqqqqqqqqqqqqqqqqqqqqqqqqqqqqqqqqqqqqqqqqqqqqqqqqqqqqqqqqqqqqqqqqqqqqqqqqqqqqqqqqqqqqqqqqqqqqqqqqqqqqqqqqqqqqqqqqqqqqqqqqqqqqqqqqqqqqqqqqqqqqqqqqqqqqqqqqqqqqqqqqqqqq\n"
     ]
    }
   ],
   "source": [
    "print(generated_text)"
   ]
  }
 ],
 "metadata": {
  "interpreter": {
   "hash": "3e285a41f56befe9dfff401b1359138cb6732e15a350f6ffd09efa79c669fb1c"
  },
  "kernelspec": {
   "display_name": "Python 3.7.5 64-bit ('LSTM_venv': venv)",
   "language": "python",
   "name": "python3"
  },
  "language_info": {
   "codemirror_mode": {
    "name": "ipython",
    "version": 3
   },
   "file_extension": ".py",
   "mimetype": "text/x-python",
   "name": "python",
   "nbconvert_exporter": "python",
   "pygments_lexer": "ipython3",
   "version": "3.6.9"
  },
  "orig_nbformat": 4
 },
 "nbformat": 4,
 "nbformat_minor": 2
}
